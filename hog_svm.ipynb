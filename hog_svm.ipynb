{
 "cells": [
  {
   "cell_type": "code",
   "execution_count": 77,
   "metadata": {},
   "outputs": [
    {
     "name": "stdout",
     "output_type": "stream",
     "text": [
      "Todos os modulos estão ok...\n"
     ]
    }
   ],
   "source": [
    "#!/usr/bin/env python3\n",
    "# -*- coding: utf-8 -*-\n",
    "\n",
    "\"\"\"\n",
    "Created on Mon Jul 25 20:15:17 2019\n",
    "\n",
    "@author: marcelo\n",
    "\"\"\"\n",
    "\n",
    "try:\n",
    "    import numpy as np\n",
    "    import pandas as pd\n",
    "    import os\n",
    "    import glob\n",
    "    import tqdm\n",
    "    print('Todos os modulos estão ok...')\n",
    "\n",
    "except Exception as e:\n",
    "    print('Modulos não instalados...')\n",
    "    print(e)\n",
    "    quit()\n"
   ]
  },
  {
   "cell_type": "code",
   "execution_count": 78,
   "metadata": {},
   "outputs": [],
   "source": [
    "def create_training_data(path_class_hog, split_test):\n",
    "    \n",
    "    CATEGORIES = os.listdir(path_class_hog)\n",
    "    \n",
    "    x_train, y_train, x_test, y_test = [], [], [], []\n",
    "    for category in CATEGORIES: \n",
    "        path = os.path.join(path_class_hog, category)  \n",
    "        class_num = CATEGORIES.index(category)  # get number of the classification\n",
    "        cont_train = 0\n",
    "        for csv in tqdm.tqdm(glob.iglob(path + '/*.csv')):\n",
    "\n",
    "            try:\n",
    "                hog_array = pd.read_csv(csv)\n",
    "                hog_array = hog_array.values\n",
    "                    \n",
    "                if cont_train < (1 - split_test) * len(os.listdir(path)):\n",
    "                    x_train.append(hog_array)\n",
    "                    y_train.append(class_num)\n",
    "                else:\n",
    "\n",
    "                    x_test.append(hog_array)\n",
    "                    y_test.append(class_num)\n",
    "                    \n",
    "            except Exception as e: \n",
    "                print(e)\n",
    "                quit()\n",
    "\n",
    "            cont_train += 1\n",
    "    return x_train, y_train, x_test, y_test"
   ]
  },
  {
   "cell_type": "code",
   "execution_count": 79,
   "metadata": {
    "scrolled": true
   },
   "outputs": [
    {
     "name": "stderr",
     "output_type": "stream",
     "text": [
      "\r",
      "0it [00:00, ?it/s]"
     ]
    },
    {
     "name": "stdout",
     "output_type": "stream",
     "text": [
      "Iniciando script...\n"
     ]
    },
    {
     "name": "stderr",
     "output_type": "stream",
     "text": [
      "625it [00:14, 41.86it/s]\n",
      "625it [00:14, 42.44it/s]\n",
      "625it [00:24, 25.16it/s]\n",
      "625it [00:17, 45.04it/s]\n",
      "625it [00:15, 11.48it/s]\n",
      "625it [00:20, 30.18it/s]\n",
      "625it [00:16, 41.79it/s]\n"
     ]
    }
   ],
   "source": [
    "\n",
    "path_class_hog = 'hog_orient_8_ppc_5_cpb_1'\n",
    "\n",
    "print('Iniciando script...')\n",
    "\n",
    "x_train, y_train, x_test, y_test = create_training_data(path_class_hog, split_test=0.)\n",
    "\n",
    "#classifier = svm.SVC(gamma='scale', decision_function_shape='ovo')\n"
   ]
  },
  {
   "cell_type": "code",
   "execution_count": 80,
   "metadata": {},
   "outputs": [
    {
     "name": "stdout",
     "output_type": "stream",
     "text": [
      "(4375, 7200)\n",
      "(4375,)\n"
     ]
    }
   ],
   "source": [
    "x_train = np.asarray(x_train).reshape(-1, x_train[0].shape[0])\n",
    "#x_test = np.asarray(x_test).reshape(-1, x_test[0].shape[0])\n",
    "y_train =  np.asarray(y_train).reshape(len(y_train),)\n",
    "#y_test = np.asarray(y_test).reshape(len(y_test),)\n",
    "print(x_train.shape)\n",
    "#print(x_test.shape)\n",
    "print(y_train.shape)\n",
    "#print(y_test.shape)\n"
   ]
  },
  {
   "cell_type": "code",
   "execution_count": 87,
   "metadata": {},
   "outputs": [
    {
     "name": "stdout",
     "output_type": "stream",
     "text": [
      "Iniciando treinamento...\n",
      "Finalizado...\n"
     ]
    }
   ],
   "source": [
    "#parametros do artigo: SVM: gamma=0.0000015, C = 2.5, kernel = 'RBF'\n",
    "from sklearn.svm import SVC\n",
    "from sklearn.multiclass import OneVsRestClassifier\n",
    "print('Iniciando treinamento...')\n",
    "clf = OneVsRestClassifier(SVC(C = 2.5, gamma=0.0000015, kernel = 'rbf'))\n",
    "clf.fit(x_train, y_train) \n",
    "print('Finalizado...')"
   ]
  },
  {
   "cell_type": "code",
   "execution_count": 89,
   "metadata": {},
   "outputs": [
    {
     "name": "stdout",
     "output_type": "stream",
     "text": [
      "Media de acuracia:  0.8322285714285714\n"
     ]
    }
   ],
   "source": [
    "mean_acc = clf.score(x_train, y_train)\n",
    "print('Media de acuracia: ', mean_acc)"
   ]
  }
 ],
 "metadata": {
  "kernelspec": {
   "display_name": "Python 3",
   "language": "python",
   "name": "python3"
  },
  "language_info": {
   "codemirror_mode": {
    "name": "ipython",
    "version": 3
   },
   "file_extension": ".py",
   "mimetype": "text/x-python",
   "name": "python",
   "nbconvert_exporter": "python",
   "pygments_lexer": "ipython3",
   "version": "3.7.0"
  }
 },
 "nbformat": 4,
 "nbformat_minor": 2
}
